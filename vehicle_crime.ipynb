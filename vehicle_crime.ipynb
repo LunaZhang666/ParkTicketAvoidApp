{
 "cells": [
  {
   "cell_type": "code",
   "execution_count": 1,
   "metadata": {},
   "outputs": [],
   "source": [
    "import pandas as pd\n",
    "import numpy as np\n",
    "import time\n",
    "\n",
    "df = pd.read_csv('crime_clean.csv')"
   ]
  },
  {
   "cell_type": "code",
   "execution_count": 2,
   "metadata": {},
   "outputs": [
    {
     "name": "stdout",
     "output_type": "stream",
     "text": [
      "1695836\n"
     ]
    }
   ],
   "source": [
    "to_drop = []\n",
    "date_thres = time.strptime(\"01/01/2014\", \"%m/%d/%Y\")\n",
    "for i in range(len(df)):\n",
    "    x = df.iloc[i]\n",
    "    date = x['date_reported']\n",
    "    date = time.strptime(date, \"%m/%d/%Y\")\n",
    "    if (\"VEHICLE\" not in x['crime_code_description']) or (date < date_thres):\n",
    "        to_drop.append(i)\n",
    "print(len(to_drop))\n",
    "#df.drop(df.index[to_drop])\n",
    "#print(df)"
   ]
  },
  {
   "cell_type": "code",
   "execution_count": 3,
   "metadata": {},
   "outputs": [
    {
     "name": "stdout",
     "output_type": "stream",
     "text": [
      "{'Newton': 13487, 'Southeast': 12068, 'N Hollywood': 15515, 'Devonshire': 11332, 'Hollenbeck': 11357, 'West LA': 10593, 'Northeast': 13962, '77th Street': 14979, 'Central': 8318, 'Wilshire': 9612, 'Southwest': 12741, 'Foothill': 10212, 'Mission': 13226, 'Olympic': 12430, 'Topanga': 9488, 'Rampart': 10185, 'West Valley': 10614, 'Pacific': 14028, 'Harbor': 11369, 'Hollywood': 11360, 'Van Nuys': 11816}\n"
     ]
    }
   ],
   "source": [
    "df = df.drop(df.index[to_drop])\n",
    "crime_dict = {}\n",
    "for i in range(len(df)):\n",
    "    x = df.iloc[i]\n",
    "    area = x['area_name']\n",
    "    if area in crime_dict:\n",
    "        crime_dict[area] += 1\n",
    "    else:\n",
    "        crime_dict[area] = 1\n",
    "print(crime_dict)\n",
    "# df.to_csv(\"vehicle_crime_after_2014.csv\", encoding='utf-8', index=False)"
   ]
  },
  {
   "cell_type": "code",
   "execution_count": 4,
   "metadata": {},
   "outputs": [],
   "source": [
    "with open('crime_cnt.csv', 'w') as f:\n",
    "    for key in crime_dict.keys():\n",
    "        f.write(\"%s,%s\\n\"%(key,crime_dict[key]))"
   ]
  },
  {
   "cell_type": "code",
   "execution_count": null,
   "metadata": {},
   "outputs": [],
   "source": []
  }
 ],
 "metadata": {
  "kernelspec": {
   "display_name": "Python 3",
   "language": "python",
   "name": "python3"
  },
  "language_info": {
   "codemirror_mode": {
    "name": "ipython",
    "version": 3
   },
   "file_extension": ".py",
   "mimetype": "text/x-python",
   "name": "python",
   "nbconvert_exporter": "python",
   "pygments_lexer": "ipython3",
   "version": "3.7.3"
  }
 },
 "nbformat": 4,
 "nbformat_minor": 2
}
